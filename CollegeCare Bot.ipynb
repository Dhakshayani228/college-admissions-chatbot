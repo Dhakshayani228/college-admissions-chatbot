{
 "cells": [
  {
   "cell_type": "code",
   "execution_count": 20,
   "id": "a1c0aa6c-4ff9-431c-8f1d-380e6aec1f0b",
   "metadata": {},
   "outputs": [],
   "source": [
    "# -----------------------------\n",
    "# Step 1: Imports\n",
    "# -----------------------------\n",
    "import pandas as pd\n",
    "import faiss\n",
    "import numpy as np\n",
    "import torch\n",
    "from sentence_transformers import SentenceTransformer\n",
    "from transformers import AutoTokenizer, AutoModelForSeq2SeqLM, pipeline\n",
    "import gradio as gr"
   ]
  },
  {
   "cell_type": "code",
   "execution_count": 21,
   "id": "4ddff8ef-b5ea-4353-9343-c6fd4bd63592",
   "metadata": {},
   "outputs": [
    {
     "name": "stdout",
     "output_type": "stream",
     "text": [
      "            question                                             answer  \\\n",
      "0              Hello  Hello! Welcome to our college. How can I assis...   \n",
      "1                 Hi                      Hi there! How can I help you?   \n",
      "2       Good morning  Good morning! What would you like to know abou...   \n",
      "3             Thanks                 You're welcome! Glad I could help.   \n",
      "4  Thank you so much          Anytime! Feel free to ask more questions.   \n",
      "\n",
      "     intent  \n",
      "0  greeting  \n",
      "1  greeting  \n",
      "2  greeting  \n",
      "3  thankyou  \n",
      "4  thankyou  \n"
     ]
    }
   ],
   "source": [
    "# -----------------------------\n",
    "# Step 2: Load Dataset (your FAQ dataset in CSV)\n",
    "# -----------------------------\n",
    "faq_df = pd.read_csv(\"C://Users//ramiy//Downloads//college_faq_cleaned.csv\")  # columns: question, answer, intent\n",
    "# Expecting columns: \"Question\", \"Answer\"\n",
    "print(faq_df.head())\n"
   ]
  },
  {
   "cell_type": "code",
   "execution_count": 22,
   "id": "2e008ecc-114c-4d86-bfaf-126fddd91721",
   "metadata": {},
   "outputs": [
    {
     "name": "stdout",
     "output_type": "stream",
     "text": [
      "Index(['question', 'answer', 'intent'], dtype='object')\n"
     ]
    }
   ],
   "source": [
    "print(faq_df.columns)\n"
   ]
  },
  {
   "cell_type": "code",
   "execution_count": 23,
   "id": "e9ea35b8-466a-493c-8130-acf3b597caab",
   "metadata": {},
   "outputs": [],
   "source": [
    "faq_questions = faq_df[\"question\"].tolist()\n",
    "faq_answers = faq_df[\"answer\"].tolist()"
   ]
  },
  {
   "cell_type": "code",
   "execution_count": 24,
   "id": "0f5c751a-473e-4b73-9ee6-87e12b012b4b",
   "metadata": {},
   "outputs": [
    {
     "name": "stderr",
     "output_type": "stream",
     "text": [
      "C:\\Users\\ramiy\\.conda\\envs\\hf_EduGuide\\Lib\\site-packages\\transformers\\tokenization_utils_base.py:1601: FutureWarning: `clean_up_tokenization_spaces` was not set. It will be set to `True` by default. This behavior will be depracted in transformers v4.45, and will be then set to `False` by default. For more details check this issue: https://github.com/huggingface/transformers/issues/31884\n",
      "  warnings.warn(\n"
     ]
    }
   ],
   "source": [
    "# -----------------------------\n",
    "# Step 3: Encode Questions into Vectors (for Retrieval)\n",
    "# -----------------------------\n",
    "embedder = SentenceTransformer(\"all-MiniLM-L6-v2\")  # small + fast\n",
    "faq_embeddings = embedder.encode(faq_questions, convert_to_numpy=True)"
   ]
  },
  {
   "cell_type": "code",
   "execution_count": 25,
   "id": "f5618e57-5fb6-4fc5-9924-3d0cfb70f679",
   "metadata": {},
   "outputs": [],
   "source": [
    "# Build FAISS index\n",
    "dim = faq_embeddings.shape[1]\n",
    "index = faiss.IndexFlatL2(dim)\n",
    "index.add(faq_embeddings)\n"
   ]
  },
  {
   "cell_type": "code",
   "execution_count": 26,
   "id": "b4d05c4d-6013-4536-9b81-7dd14cedddbd",
   "metadata": {},
   "outputs": [],
   "source": [
    "# -----------------------------\n",
    "# Step 4: Load Generative Model (Fallback for unseen queries)\n",
    "# -----------------------------\n",
    "gen_model_name = \"google/flan-t5-small\"\n",
    "tokenizer = AutoTokenizer.from_pretrained(gen_model_name)\n",
    "gen_model = AutoModelForSeq2SeqLM.from_pretrained(gen_model_name)\n",
    "generator = pipeline(\"text2text-generation\", model=gen_model, tokenizer=tokenizer)\n"
   ]
  },
  {
   "cell_type": "code",
   "execution_count": 27,
   "id": "0abc39f1-8e7b-4561-a282-0cb0a36de7ac",
   "metadata": {},
   "outputs": [],
   "source": [
    "# -----------------------------\n",
    "# Step 5: Chatbot Function\n",
    "# -----------------------------\n",
    "def eduguide_fn(user_query, history, state):\n",
    "    # Encode query\n",
    "    query_emb = embedder.encode([user_query], convert_to_numpy=True)\n",
    "    \n",
    "    # Retrieve top-1 match\n",
    "    D, I = index.search(query_emb, 1)  # distance, index\n",
    "    best_idx = I[0][0]\n",
    "    best_score = D[0][0]\n",
    "\n",
    "    # Threshold → if retrieval confidence is low, use generative\n",
    "    if best_score < 50:  \n",
    "        answer = faq_answers[best_idx]\n",
    "    else:\n",
    "        # Fallback to generative model\n",
    "        prompt = f\"Answer this question related to college admissions/facilities/courses:\\n{user_query}\"\n",
    "        gen_output = generator(prompt, max_length=128, num_return_sequences=1)\n",
    "        answer = gen_output[0]['generated_text']\n",
    "\n",
    "    return answer, state"
   ]
  },
  {
   "cell_type": "code",
   "execution_count": 28,
   "id": "665d8107-e46b-45cd-b047-b6beb3ae8a7a",
   "metadata": {},
   "outputs": [
    {
     "name": "stderr",
     "output_type": "stream",
     "text": [
      "C:\\Users\\ramiy\\AppData\\Local\\Temp\\ipykernel_17628\\3705370895.py:8: UserWarning: You have not specified a value for the `type` parameter. Defaulting to the 'tuples' format for chatbot messages, but this is deprecated and will be removed in a future version of Gradio. Please set type='messages' instead, which uses openai-style dictionaries with 'role' and 'content' keys.\n",
      "  chat = gr.Chatbot(height=500)\n"
     ]
    },
    {
     "name": "stdout",
     "output_type": "stream",
     "text": [
      "* Running on local URL:  http://127.0.0.1:7863\n",
      "* To create a public link, set `share=True` in `launch()`.\n"
     ]
    },
    {
     "data": {
      "text/html": [
       "<div><iframe src=\"http://127.0.0.1:7863/\" width=\"100%\" height=\"500\" allow=\"autoplay; camera; microphone; clipboard-read; clipboard-write;\" frameborder=\"0\" allowfullscreen></iframe></div>"
      ],
      "text/plain": [
       "<IPython.core.display.HTML object>"
      ]
     },
     "metadata": {},
     "output_type": "display_data"
    },
    {
     "data": {
      "text/plain": []
     },
     "execution_count": 28,
     "metadata": {},
     "output_type": "execute_result"
    }
   ],
   "source": [
    "# -----------------------------\n",
    "# Step 6: Gradio UI\n",
    "# -----------------------------\n",
    "with gr.Blocks(title=\"EduGuide: College Admissions & Career Chatbot\") as demo:\n",
    "    gr.Markdown(\"## CollegeCare Bot — College Admissions & Career Chatbot\")\n",
    "    gr.Markdown(\"Ask about **courses, admissions, hostel, placements, scholarships, or campus life**\")\n",
    "\n",
    "    chat = gr.Chatbot(height=500)\n",
    "    state = gr.State({\"last_intent\": None, \"last_entities\": set()})\n",
    "    txt = gr.Textbox(label=\"Type your question…\", placeholder=\"e.g., What is the fee structure for B.Tech?\")\n",
    "    submit = gr.Button(\"Submit\", variant=\"primary\")\n",
    "    clear = gr.Button(\"Clear Chat\")\n",
    "\n",
    "    def _respond(m, h, s):\n",
    "        reply, s = eduguide_fn(m, h, s)\n",
    "        return h + [(m, reply)], s, \"\"\n",
    "\n",
    "    txt.submit(_respond, [txt, chat, state], [chat, state, txt])\n",
    "    submit.click(_respond, [txt, chat, state], [chat, state, txt])\n",
    "\n",
    "    def _clear():\n",
    "        return [], {\"last_intent\": None, \"last_entities\": set()}\n",
    "\n",
    "    clear.click(_clear, None, [chat, state], queue=False)\n",
    "\n",
    "demo.queue().launch()\n"
   ]
  },
  {
   "cell_type": "code",
   "execution_count": null,
   "id": "1b88d962-d956-45b1-9819-711aea6c15c2",
   "metadata": {},
   "outputs": [],
   "source": []
  }
 ],
 "metadata": {
  "kernelspec": {
   "display_name": "Python (hf_EduGuide)",
   "language": "python",
   "name": "hf_eduguide"
  },
  "language_info": {
   "codemirror_mode": {
    "name": "ipython",
    "version": 3
   },
   "file_extension": ".py",
   "mimetype": "text/x-python",
   "name": "python",
   "nbconvert_exporter": "python",
   "pygments_lexer": "ipython3",
   "version": "3.11.13"
  }
 },
 "nbformat": 4,
 "nbformat_minor": 5
}
